{
 "cells": [
  {
   "cell_type": "code",
   "execution_count": null,
   "metadata": {},
   "outputs": [],
   "source": [
    "import os\n",
    "os.environ['CUDA_VISIBLE_DEVICES']='6'\n",
    "import numpy as np\n",
    "import pandas as pd\n",
    "import skimage.io\n",
    "import skimage.data\n",
    "from skimage.color import rgb2gray\n",
    "from PyTorchNMTF.models import NMF"
   ]
  },
  {
   "cell_type": "code",
   "execution_count": null,
   "metadata": {},
   "outputs": [],
   "source": [
    "%pylab inline"
   ]
  },
  {
   "cell_type": "markdown",
   "metadata": {},
   "source": [
    "## Data"
   ]
  },
  {
   "cell_type": "code",
   "execution_count": null,
   "metadata": {},
   "outputs": [],
   "source": [
    "im = rgb2gray(skimage.data.chelsea())*255.\n",
    "im = im.astype('float32')"
   ]
  },
  {
   "cell_type": "markdown",
   "metadata": {},
   "source": [
    "## Test Image Reconstruction"
   ]
  },
  {
   "cell_type": "code",
   "execution_count": null,
   "metadata": {},
   "outputs": [],
   "source": [
    "device = 'cuda'"
   ]
  },
  {
   "cell_type": "code",
   "execution_count": null,
   "metadata": {},
   "outputs": [],
   "source": [
    "n_iter = 2500\n",
    "k = 256"
   ]
  },
  {
   "cell_type": "code",
   "execution_count": null,
   "metadata": {},
   "outputs": [],
   "source": [
    "nmf_mu = NMF(im,n_iter=n_iter,k=k,solver='mu',verbose=True,loss='kl')\n",
    "nmf_mu = nmf_mu.to(device)\n",
    "nmf_mu.fit()\n",
    "im_recon_mu = nmf_mu.inverse_trainsform().cpu().numpy()"
   ]
  },
  {
   "cell_type": "code",
   "execution_count": null,
   "metadata": {},
   "outputs": [],
   "source": [
    "nmf_autograd = NMF(im,n_iter=n_iter,k=k,solver='autograd',verbose=True,loss='kl')\n",
    "nmf_autograd = nmf_autograd.to(device)\n",
    "nmf_autograd.fit()\n",
    "im_recon_autograd = nmf_autograd.inverse_trainsform().cpu().numpy()"
   ]
  },
  {
   "cell_type": "code",
   "execution_count": null,
   "metadata": {},
   "outputs": [],
   "source": [
    "figure(figsize=(12,12),facecolor='white')\n",
    "plt.subplot(221)\n",
    "imshow(im,cmap='gray')\n",
    "title('original image')\n",
    "plt.subplot(222)\n",
    "imshow(im_recon_mu,cmap='gray')\n",
    "title('mu solver, mse %.4f' % nmf_mu.mse() )\n",
    "plt.subplot(223)\n",
    "opt_name = nmf_autograd.opt.__class__.__name__\n",
    "title('autograd (%s) solver, mse %.4f' % (opt_name,nmf_autograd.mse()))\n",
    "imshow(im_recon_autograd,cmap='gray')"
   ]
  },
  {
   "cell_type": "code",
   "execution_count": null,
   "metadata": {},
   "outputs": [],
   "source": [
    "assert nmf_autograd.is_nonneg() and nmf_mu.is_nonneg()"
   ]
  }
 ],
 "metadata": {
  "kernelspec": {
   "display_name": "Python [conda env:bob_py3]",
   "language": "python",
   "name": "conda-env-bob_py3-py"
  },
  "language_info": {
   "codemirror_mode": {
    "name": "ipython",
    "version": 3
   },
   "file_extension": ".py",
   "mimetype": "text/x-python",
   "name": "python",
   "nbconvert_exporter": "python",
   "pygments_lexer": "ipython3",
   "version": "3.6.8"
  }
 },
 "nbformat": 4,
 "nbformat_minor": 2
}
